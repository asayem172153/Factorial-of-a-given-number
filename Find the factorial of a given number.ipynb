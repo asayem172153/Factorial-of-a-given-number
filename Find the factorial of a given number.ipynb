{
  "nbformat": 4,
  "nbformat_minor": 0,
  "metadata": {
    "colab": {
      "provenance": []
    },
    "kernelspec": {
      "name": "python3",
      "display_name": "Python 3"
    },
    "language_info": {
      "name": "python"
    }
  },
  "cells": [
    {
      "cell_type": "markdown",
      "source": [
        "**General Approach**"
      ],
      "metadata": {
        "id": "TnK1rvU8TTu3"
      }
    },
    {
      "cell_type": "code",
      "execution_count": 2,
      "metadata": {
        "colab": {
          "base_uri": "https://localhost:8080/"
        },
        "id": "d6GZr0ymTQ0w",
        "outputId": "4e68b6a2-23bb-4bc0-fe5b-b77f5c5b6368"
      },
      "outputs": [
        {
          "output_type": "stream",
          "name": "stdout",
          "text": [
            "Enter a number: 10\n",
            "Factorial of  10 is  3628800\n"
          ]
        }
      ],
      "source": [
        "num = int(input('Enter a number: '))\n",
        "factorial = 1\n",
        "\n",
        "for i in range(2,num+1):\n",
        "  factorial *= i\n",
        "print('Factorial of ',num, 'is ', factorial)"
      ]
    }
  ]
}